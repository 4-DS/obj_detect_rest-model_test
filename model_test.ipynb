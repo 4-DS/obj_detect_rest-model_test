{
 "cells": [
  {
   "cell_type": "code",
   "execution_count": null,
   "id": "b5c2db3c-570a-4520-97f9-e99b7cce1377",
   "metadata": {
    "tags": []
   },
   "outputs": [],
   "source": [
    "%load_ext autoreload\n",
    "%autoreload 2"
   ]
  },
  {
   "cell_type": "code",
   "execution_count": null,
   "id": "4ca2677e-6dbf-49cb-94cf-55ab34553123",
   "metadata": {
    "tags": [
     "parameters"
    ]
   },
   "outputs": [],
   "source": [
    "# specify substep parameters for interactive run\n",
    "# this cell will be replaced during job run with the parameters from json within params subfolder\n",
    "substep_params={\n",
    "}"
   ]
  },
  {
   "cell_type": "code",
   "execution_count": null,
   "id": "f04468dc-4a2c-4ac0-8a9c-b36dc26f9a22",
   "metadata": {
    "tags": []
   },
   "outputs": [],
   "source": [
    "# load pipeline and step parameters - do not edit\n",
    "from sinara.substep import get_pipeline_params, get_step_params\n",
    "pipeline_params = get_pipeline_params(pprint=True)\n",
    "step_params = get_step_params(pprint=True)"
   ]
  },
  {
   "cell_type": "code",
   "execution_count": null,
   "id": "3fa0a075-eca9-4b7a-ab12-457a84f5dbb9",
   "metadata": {
    "tags": []
   },
   "outputs": [],
   "source": [
    "# define substep interface\n",
    "from sinara.substep import NotebookSubstep, ENV_NAME, PIPELINE_NAME, ZONE_NAME, STEP_NAME, RUN_ID, ENTITY_NAME, ENTITY_PATH, SUBSTEP_NAME\n",
    "\n",
    "substep = NotebookSubstep(pipeline_params, step_params, substep_params)\n",
    "\n",
    "substep.interface(\n",
    "    inputs =\n",
    "    [ \n",
    "      { STEP_NAME: \"model_pack\", ENTITY_NAME: \"bento_service\"} # bentoservice file from pack step\n",
    "    ]\n",
    "    \n",
    "    # tmp_entities =\n",
    "    # [\n",
    "    #     { ENTITY_NAME: \"bentoservice_artifacts\" } # stored BentoService\n",
    "    # ]\n",
    ")\n",
    "\n",
    "substep.print_interface_info()\n",
    "substep.exit_in_visualize_mode()"
   ]
  },
  {
   "cell_type": "code",
   "execution_count": null,
   "id": "8d85b790-e2cd-4024-911c-fa6699f6951d",
   "metadata": {
    "tags": []
   },
   "outputs": [],
   "source": [
    "import numpy as np\n",
    "import os.path as osp\n",
    "from pathlib import Path\n",
    "import json\n",
    "import atexit\n",
    "import requests\n",
    "import base64\n",
    "import pickle"
   ]
  },
  {
   "cell_type": "code",
   "execution_count": null,
   "id": "dd68621e-9865-46c1-b083-1a66e87b59a9",
   "metadata": {
    "tags": []
   },
   "outputs": [],
   "source": [
    "# run spark\n",
    "from sinara.spark import SinaraSpark\n",
    "\n",
    "spark = SinaraSpark.run_session(0)\n",
    "SinaraSpark.ui_url()"
   ]
  },
  {
   "cell_type": "markdown",
   "id": "a21e1611-39ad-4a0c-8d16-376117080310",
   "metadata": {},
   "source": [
    "### Loading REST Bentoservice "
   ]
  },
  {
   "cell_type": "code",
   "execution_count": null,
   "id": "5ccfb4f9-f590-46d4-b705-8b6d47737591",
   "metadata": {
    "tags": []
   },
   "outputs": [],
   "source": [
    "from sinara.bentoml import load_bentoservice\n",
    "\n",
    "# load bentoservise\n",
    "inputs_model_pack = substep.inputs(step_name = \"model_pack\")\n",
    "bento_service = load_bentoservice(inputs_model_pack.bento_service)"
   ]
  },
  {
   "cell_type": "code",
   "execution_count": null,
   "id": "54ca4f76-74cb-40af-8131-4f785a1b48ce",
   "metadata": {
    "tags": []
   },
   "outputs": [],
   "source": [
    "bento_service.service_version()"
   ]
  },
  {
   "cell_type": "markdown",
   "id": "1a447cdc-9d4d-4933-aace-376278bb948a",
   "metadata": {},
   "source": [
    "### Start Bentoservice"
   ]
  },
  {
   "cell_type": "code",
   "execution_count": null,
   "id": "57aa41ec-80d9-4d2f-a0fd-5fa4c68f010a",
   "metadata": {
    "tags": []
   },
   "outputs": [],
   "source": [
    "from sinara.bentoml import start_dev_bentoservice, stop_dev_bentoservice"
   ]
  },
  {
   "cell_type": "code",
   "execution_count": null,
   "id": "0d2e67ed-e62f-457e-b70d-24c6c782f505",
   "metadata": {
    "tags": []
   },
   "outputs": [],
   "source": [
    "%%capture cap --no-stderr\n",
    "# Stop a dev model server if running\n",
    "stop_dev_bentoservice(bento_service)\n",
    "\n",
    "# Start a dev model server to test out the API endpoint locally\n",
    "start_dev_bentoservice(bento_service, use_popen=False, debug=False)\n",
    "_=atexit.register(stop_dev_bentoservice)"
   ]
  },
  {
   "cell_type": "code",
   "execution_count": null,
   "id": "cf85a82c-608a-42d8-9dd8-30a3f5adca38",
   "metadata": {
    "tags": []
   },
   "outputs": [],
   "source": [
    "# example REST API get service_version\n",
    "service_version = requests.post(\"http://127.0.0.1:5000/service_version\", json={}).json()\n",
    "print(f\"service_version: {service_version}\")"
   ]
  },
  {
   "cell_type": "markdown",
   "id": "851c5eb3-46e3-42ee-8b8b-dfcc54bdad54",
   "metadata": {},
   "source": [
    "### Test 1. Predict the received test_data and compare it with test_result"
   ]
  },
  {
   "cell_type": "markdown",
   "id": "4204b8ad-1c48-4d73-a0a3-960f3e16c41e",
   "metadata": {},
   "source": [
    "#### Get test_data   \n",
    "(test image, which should be stored in the bento service, and can be obtained using the test_data method)"
   ]
  },
  {
   "cell_type": "code",
   "execution_count": null,
   "id": "a9df9022-423b-4c70-8a36-31c3a0b47aea",
   "metadata": {
    "scrolled": true,
    "tags": []
   },
   "outputs": [],
   "source": [
    "test_data_api_endpoint = f'http://127.0.0.1:5000/test_data'\n",
    "test_data_response = requests.request(\"POST\", test_data_api_endpoint, json={})\n",
    "\n",
    "content = test_data_response.json()\n",
    "encoded_test_data = content['b64']\n",
    "test_data = base64.b64decode(encoded_test_data)"
   ]
  },
  {
   "cell_type": "markdown",
   "id": "8d1dea4a-5aa5-4221-a863-751de61848f4",
   "metadata": {
    "tags": []
   },
   "source": [
    "#### Get test_result   \n",
    "(the result obtained from the test image and saved in the bento service - stored as pickle, method - test_result)"
   ]
  },
  {
   "cell_type": "code",
   "execution_count": null,
   "id": "03934acc-f071-4bb1-a9ea-9637772de6ce",
   "metadata": {
    "scrolled": true,
    "tags": []
   },
   "outputs": [],
   "source": [
    "test_result_api_endpoint = f'http://127.0.0.1:5000/test_result'\n",
    "test_result_response = requests.request(\"POST\", test_result_api_endpoint, json={})\n",
    "\n",
    "content = test_result_response.json()\n",
    "encoded_test_result = content['b64']\n",
    "decoded_test_result = base64.b64decode(encoded_test_result)\n",
    "\n",
    "test_result = pickle.loads(decoded_test_result)"
   ]
  },
  {
   "cell_type": "markdown",
   "id": "3f52f226-7be2-49b0-9b5d-370a2c991baf",
   "metadata": {
    "tags": []
   },
   "source": [
    "#### Predict test_data\n",
    "(sending test image test_data to predict method)"
   ]
  },
  {
   "cell_type": "code",
   "execution_count": null,
   "id": "7c232aa6-ede6-4359-9676-3ad2ef9a4509",
   "metadata": {
    "scrolled": true,
    "tags": []
   },
   "outputs": [],
   "source": [
    "predict_api_endpoint = f'http://127.0.0.1:5000/predict'\n",
    "\n",
    "headers = {\n",
    "  'Content-Type': 'application/octet-stream'\n",
    "}\n",
    "\n",
    "predict_response = requests.post(predict_api_endpoint, headers=headers, data=test_data)\n",
    "predict_result = predict_response.json()"
   ]
  },
  {
   "cell_type": "markdown",
   "id": "67a14ae4-86c5-4b65-8067-71d56ec24dc0",
   "metadata": {},
   "source": [
    "#### Compare results of predict by the test_data and test_result "
   ]
  },
  {
   "cell_type": "code",
   "execution_count": null,
   "id": "edfe4d18-5a91-41b9-a7ab-8868b667a3ae",
   "metadata": {
    "tags": []
   },
   "outputs": [],
   "source": [
    "def bb_intersection_over_union(coco_boxA, coco_boxB):\n",
    "    # determine the (x_top_left, y_top_left, h, w)-coordinates of the intersection rectangle\n",
    "    boxA = [coco_boxA[0], coco_boxA[1], coco_boxA[0]+coco_boxA[2], coco_boxA[1]+coco_boxA[3]]\n",
    "    boxB = [coco_boxB[0], coco_boxB[1], coco_boxB[0]+coco_boxB[2], coco_boxB[1]+coco_boxB[3]]\n",
    "    xA = max(boxA[0], boxB[0])\n",
    "    yA = max(boxA[1], boxB[1])\n",
    "    xB = min(boxA[2], boxB[2])\n",
    "    yB = min(boxA[3], boxB[3])\n",
    "    # compute the area of intersection rectangle\n",
    "    interArea = max(0, xB - xA + 1) * max(0, yB - yA + 1)\n",
    "    # compute the area of both the prediction and ground-truth\n",
    "    # rectangles\n",
    "    boxAArea = (boxA[2] - boxA[0] + 1) * (boxA[3] - boxA[1] + 1)\n",
    "    boxBArea = (boxB[2] - boxB[0] + 1) * (boxB[3] - boxB[1] + 1)\n",
    "    # compute the intersection over union by taking the intersection\n",
    "    # area and dividing it by the sum of prediction + ground-truth\n",
    "    # areas - the interesection area\n",
    "    iou = interArea / float(boxAArea + boxBArea - interArea)\n",
    "    # return the intersection over union value\n",
    "    return iou"
   ]
  },
  {
   "cell_type": "code",
   "execution_count": null,
   "id": "fedddb11-07d4-4aa0-bd9b-25f667369caa",
   "metadata": {
    "tags": []
   },
   "outputs": [],
   "source": [
    "_success = True\n",
    "\n",
    "try:\n",
    "    for predict_obj in predict_result[\"annotations\"]:\n",
    "        predict_obj_category_id = predict_obj[\"category_id\"]\n",
    "        predict_obj_bbox = predict_obj[\"bbox\"]\n",
    "        ious = []\n",
    "        for test_obj in test_result[\"annotations\"]:\n",
    "            test_obj_category_id = test_obj[\"category_id\"]\n",
    "            \n",
    "            if predict_obj_category_id != test_obj_category_id:  # comparison by object class\n",
    "                continue\n",
    "            test_obj_bbox = test_obj[\"bbox\"]\n",
    "            ious.append(bb_intersection_over_union(np.array(predict_obj_bbox), test_obj_bbox))    \n",
    "        \n",
    "        id_bbox_iou = np.array(ious).argmax()  \n",
    "        if ious[id_bbox_iou] < 0.98:  # no matches by iou     \n",
    "            _success = False\n",
    "except Exception as e:\n",
    "    print(f\"error: {e.__str__()}\")\n",
    "    _success = False"
   ]
  },
  {
   "cell_type": "code",
   "execution_count": null,
   "id": "659aba5c-e220-4881-94c2-ea8397aabbea",
   "metadata": {
    "tags": []
   },
   "outputs": [],
   "source": [
    "assert _success"
   ]
  },
  {
   "cell_type": "code",
   "execution_count": null,
   "id": "232349f0-6155-49f6-96dc-81053a52e1f9",
   "metadata": {
    "tags": []
   },
   "outputs": [],
   "source": [
    "# Stop spark\n",
    "SinaraSpark.stop_session()"
   ]
  }
 ],
 "metadata": {
  "kernelspec": {
   "display_name": "cv",
   "language": "python",
   "name": "cv"
  },
  "language_info": {
   "codemirror_mode": {
    "name": "ipython",
    "version": 3
   },
   "file_extension": ".py",
   "mimetype": "text/x-python",
   "name": "python",
   "nbconvert_exporter": "python",
   "pygments_lexer": "ipython3",
   "version": "3.9.10"
  }
 },
 "nbformat": 4,
 "nbformat_minor": 5
}
